{
 "cells": [
  {
   "cell_type": "code",
   "execution_count": 1,
   "metadata": {},
   "outputs": [
    {
     "name": "stderr",
     "output_type": "stream",
     "text": [
      "/home/mcarballo/anaconda3/lib/python3.6/site-packages/h5py/__init__.py:36: FutureWarning: Conversion of the second argument of issubdtype from `float` to `np.floating` is deprecated. In future, it will be treated as `np.float64 == np.dtype(float).type`.\n",
      "  from ._conv import register_converters as _register_converters\n",
      "Using TensorFlow backend.\n"
     ]
    },
    {
     "ename": "FileNotFoundError",
     "evalue": "[Errno 2] No such file or directory: 'model.json'",
     "output_type": "error",
     "traceback": [
      "\u001b[0;31m---------------------------------------------------------------------------\u001b[0m",
      "\u001b[0;31mFileNotFoundError\u001b[0m                         Traceback (most recent call last)",
      "\u001b[0;32m<ipython-input-1-fc64369cd1ad>\u001b[0m in \u001b[0;36m<module>\u001b[0;34m()\u001b[0m\n\u001b[1;32m      3\u001b[0m \u001b[0;32mimport\u001b[0m \u001b[0mnumpy\u001b[0m \u001b[0;32mas\u001b[0m \u001b[0mnp\u001b[0m\u001b[0;34m\u001b[0m\u001b[0m\n\u001b[1;32m      4\u001b[0m \u001b[0;34m\u001b[0m\u001b[0m\n\u001b[0;32m----> 5\u001b[0;31m \u001b[0mmodel\u001b[0m \u001b[0;34m=\u001b[0m \u001b[0mload_model\u001b[0m\u001b[0;34m(\u001b[0m\u001b[0;34m)\u001b[0m\u001b[0;34m\u001b[0m\u001b[0m\n\u001b[0m",
      "\u001b[0;32m~/Escritorio/fiuba/eci/smartAiMineSweeper/CURSO_ECI/play.py\u001b[0m in \u001b[0;36mload_model\u001b[0;34m()\u001b[0m\n\u001b[1;32m     25\u001b[0m \u001b[0;34m\u001b[0m\u001b[0m\n\u001b[1;32m     26\u001b[0m \u001b[0;32mdef\u001b[0m \u001b[0mload_model\u001b[0m\u001b[0;34m(\u001b[0m\u001b[0;34m)\u001b[0m\u001b[0;34m:\u001b[0m\u001b[0;34m\u001b[0m\u001b[0m\n\u001b[0;32m---> 27\u001b[0;31m     \u001b[0;32mwith\u001b[0m \u001b[0mopen\u001b[0m\u001b[0;34m(\u001b[0m\u001b[0;34m'model.json'\u001b[0m\u001b[0;34m,\u001b[0m \u001b[0;34m'r'\u001b[0m\u001b[0;34m)\u001b[0m \u001b[0;32mas\u001b[0m \u001b[0mjson_file\u001b[0m\u001b[0;34m:\u001b[0m\u001b[0;34m\u001b[0m\u001b[0m\n\u001b[0m\u001b[1;32m     28\u001b[0m         \u001b[0mloaded_model_json\u001b[0m \u001b[0;34m=\u001b[0m \u001b[0mjson_file\u001b[0m\u001b[0;34m.\u001b[0m\u001b[0mread\u001b[0m\u001b[0;34m(\u001b[0m\u001b[0;34m)\u001b[0m\u001b[0;34m\u001b[0m\u001b[0m\n\u001b[1;32m     29\u001b[0m     \u001b[0mloaded_model\u001b[0m \u001b[0;34m=\u001b[0m \u001b[0mmodel_from_json\u001b[0m\u001b[0;34m(\u001b[0m\u001b[0mloaded_model_json\u001b[0m\u001b[0;34m)\u001b[0m\u001b[0;34m\u001b[0m\u001b[0m\n",
      "\u001b[0;31mFileNotFoundError\u001b[0m: [Errno 2] No such file or directory: 'model.json'"
     ]
    }
   ],
   "source": [
    "from buscaminas import MineSweeper as ms\n",
    "from play import jugar,reformat,load_model,to_ohe\n",
    "import numpy as np\n",
    "\n",
    "model = load_model()"
   ]
  },
  {
   "cell_type": "code",
   "execution_count": 126,
   "metadata": {
    "collapsed": true
   },
   "outputs": [],
   "source": [
    "#Creo Juego        \n",
    "game = ms(5,5,3,True)    "
   ]
  },
  {
   "cell_type": "code",
   "execution_count": 133,
   "metadata": {},
   "outputs": [
    {
     "name": "stdout",
     "output_type": "stream",
     "text": [
      "0 2\n",
      "1 \u001b[31mB\u001b[0m 1 1 \u001b[32m#\u001b[0m \n",
      "\u001b[32m#\u001b[0m \u001b[32m#\u001b[0m 2 \u001b[32m#\u001b[0m \u001b[32m#\u001b[0m \n",
      "\u001b[37m0\u001b[0m \u001b[32m#\u001b[0m \u001b[32m#\u001b[0m 2 \u001b[32m#\u001b[0m \n",
      "\u001b[32m#\u001b[0m \u001b[32m#\u001b[0m \u001b[32m#\u001b[0m \u001b[32m#\u001b[0m \u001b[32m#\u001b[0m \n",
      "\u001b[32m#\u001b[0m \u001b[32m#\u001b[0m \u001b[32m#\u001b[0m \u001b[32m#\u001b[0m \u001b[32m#\u001b[0m \n",
      "\n",
      "\u001b[32m8\u001b[0m \u001b[32m8\u001b[0m \u001b[32m8\u001b[0m \u001b[32m8\u001b[0m \u001b[32m8\u001b[0m \n",
      "\u001b[32m8\u001b[0m \u001b[37m4\u001b[0m \u001b[32m8\u001b[0m \u001b[30m2\u001b[0m \u001b[33m6\u001b[0m \n",
      "\u001b[32m8\u001b[0m \u001b[30m2\u001b[0m \u001b[37m4\u001b[0m \u001b[32m8\u001b[0m \u001b[32m8\u001b[0m \n",
      "\u001b[31m0\u001b[0m \u001b[33m6\u001b[0m \u001b[33m6\u001b[0m \u001b[30m2\u001b[0m \u001b[32m8\u001b[0m \n",
      "\u001b[32m8\u001b[0m \u001b[33m6\u001b[0m \u001b[32m8\u001b[0m \u001b[33m6\u001b[0m \u001b[32m8\u001b[0m \n"
     ]
    }
   ],
   "source": [
    "este_turno = game.matriz_usuario.copy()\n",
    "cant = 0\n",
    "weights = model.predict(to_ohe(este_turno,5,5))[0]\n",
    "actions = np.argsort(weights*-1)\n",
    "pos=0\n",
    "while cant == 0:\n",
    "    t1,t2 = game.get_loc(actions[pos]) \n",
    "    pos+=1\n",
    "    cant = game.click(t1,t2)\n",
    "print(t1,t2)\n",
    "\n",
    "game.pretty_print(True)\n",
    "print()\n",
    "game.pretty_weight(weights)"
   ]
  }
 ],
 "metadata": {
  "kernelspec": {
   "display_name": "Python 3",
   "language": "python",
   "name": "python3"
  },
  "language_info": {
   "codemirror_mode": {
    "name": "ipython",
    "version": 3
   },
   "file_extension": ".py",
   "mimetype": "text/x-python",
   "name": "python",
   "nbconvert_exporter": "python",
   "pygments_lexer": "ipython3",
   "version": "3.6.4"
  }
 },
 "nbformat": 4,
 "nbformat_minor": 2
}
