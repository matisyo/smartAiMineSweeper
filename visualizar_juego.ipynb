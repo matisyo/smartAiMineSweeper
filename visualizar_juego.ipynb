{
 "cells": [
  {
   "cell_type": "code",
   "execution_count": 76,
   "metadata": {},
   "outputs": [],
   "source": [
    "from buscaminas import MineSweeper as ms\n",
    "from play import jugar,reformat,load_model,to_ohe\n",
    "import numpy as np\n",
    "\n",
    "model = load_model()"
   ]
  },
  {
   "cell_type": "code",
   "execution_count": 126,
   "metadata": {
    "collapsed": true
   },
   "outputs": [],
   "source": [
    "#Creo Juego        \n",
    "game = ms(5,5,3,True)    "
   ]
  },
  {
   "cell_type": "code",
   "execution_count": 133,
   "metadata": {},
   "outputs": [
    {
     "name": "stdout",
     "output_type": "stream",
     "text": [
      "0 2\n",
      "1 \u001b[31mB\u001b[0m 1 1 \u001b[32m#\u001b[0m \n",
      "\u001b[32m#\u001b[0m \u001b[32m#\u001b[0m 2 \u001b[32m#\u001b[0m \u001b[32m#\u001b[0m \n",
      "\u001b[37m0\u001b[0m \u001b[32m#\u001b[0m \u001b[32m#\u001b[0m 2 \u001b[32m#\u001b[0m \n",
      "\u001b[32m#\u001b[0m \u001b[32m#\u001b[0m \u001b[32m#\u001b[0m \u001b[32m#\u001b[0m \u001b[32m#\u001b[0m \n",
      "\u001b[32m#\u001b[0m \u001b[32m#\u001b[0m \u001b[32m#\u001b[0m \u001b[32m#\u001b[0m \u001b[32m#\u001b[0m \n",
      "\n",
      "\u001b[32m8\u001b[0m \u001b[32m8\u001b[0m \u001b[32m8\u001b[0m \u001b[32m8\u001b[0m \u001b[32m8\u001b[0m \n",
      "\u001b[32m8\u001b[0m \u001b[37m4\u001b[0m \u001b[32m8\u001b[0m \u001b[30m2\u001b[0m \u001b[33m6\u001b[0m \n",
      "\u001b[32m8\u001b[0m \u001b[30m2\u001b[0m \u001b[37m4\u001b[0m \u001b[32m8\u001b[0m \u001b[32m8\u001b[0m \n",
      "\u001b[31m0\u001b[0m \u001b[33m6\u001b[0m \u001b[33m6\u001b[0m \u001b[30m2\u001b[0m \u001b[32m8\u001b[0m \n",
      "\u001b[32m8\u001b[0m \u001b[33m6\u001b[0m \u001b[32m8\u001b[0m \u001b[33m6\u001b[0m \u001b[32m8\u001b[0m \n"
     ]
    }
   ],
   "source": [
    "este_turno = game.matriz_usuario.copy()\n",
    "cant = 0\n",
    "weights = model.predict(to_ohe(este_turno,5,5))[0]\n",
    "actions = np.argsort(weights*-1)\n",
    "pos=0\n",
    "while cant == 0:\n",
    "    t1,t2 = game.get_loc(actions[pos]) \n",
    "    pos+=1\n",
    "    cant = game.click(t1,t2)\n",
    "print(t1,t2)\n",
    "\n",
    "game.pretty_print(True)\n",
    "print()\n",
    "game.pretty_weight(weights)"
   ]
  }
 ],
 "metadata": {
  "kernelspec": {
   "display_name": "Python 3",
   "language": "python",
   "name": "python3"
  },
  "language_info": {
   "codemirror_mode": {
    "name": "ipython",
    "version": 3
   },
   "file_extension": ".py",
   "mimetype": "text/x-python",
   "name": "python",
   "nbconvert_exporter": "python",
   "pygments_lexer": "ipython3",
   "version": "3.6.3"
  }
 },
 "nbformat": 4,
 "nbformat_minor": 2
}
