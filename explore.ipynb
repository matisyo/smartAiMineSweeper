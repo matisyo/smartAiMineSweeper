{
 "cells": [
  {
   "cell_type": "code",
   "execution_count": 40,
   "metadata": {},
   "outputs": [
    {
     "data": {
      "text/plain": [
       "<module 'play' from 'C:\\\\Users\\\\Matias\\\\Desktop\\\\buscamina\\\\minesweeper\\\\play.py'>"
      ]
     },
     "execution_count": 40,
     "metadata": {},
     "output_type": "execute_result"
    }
   ],
   "source": [
    "from importlib import reload\n",
    "import play\n",
    "reload(play)"
   ]
  },
  {
   "cell_type": "code",
   "execution_count": 41,
   "metadata": {},
   "outputs": [],
   "source": [
    "from play import jugar,reformat,load_model\n",
    "from crear_modelo import cnn_modelo,save_model"
   ]
  },
  {
   "cell_type": "code",
   "execution_count": 42,
   "metadata": {},
   "outputs": [
    {
     "name": "stdout",
     "output_type": "stream",
     "text": [
      "(None, 5, 5, 12)\n",
      "(None, 5, 5, 32)\n",
      "(None, 5, 5, 64)\n",
      "(None, 3, 3, 128)\n",
      "(None, 1152)\n",
      "(None, 25)\n",
      "(None, 25)\n",
      "Saved model to disk\n"
     ]
    }
   ],
   "source": [
    "#Crea\n",
    "alto = 5\n",
    "ancho = 5\n",
    "bombas = 3\n",
    "m = cnn_modelo(alto,ancho)\n",
    "save_model(m)"
   ]
  },
  {
   "cell_type": "code",
   "execution_count": null,
   "metadata": {},
   "outputs": [
    {
     "name": "stdout",
     "output_type": "stream",
     "text": [
      "iteracion 0\n",
      "Epoch 1/10\n",
      "9093/9093 [==============================] - 6s 626us/step - loss: 1.9180\n",
      "Epoch 2/10\n",
      "9093/9093 [==============================] - 4s 414us/step - loss: 1.9024\n",
      "Epoch 3/10\n",
      "9093/9093 [==============================] - 3s 372us/step - loss: 1.8856\n",
      "Epoch 4/10\n",
      "9093/9093 [==============================] - 3s 376us/step - loss: 1.8729\n",
      "Epoch 5/10\n",
      "9093/9093 [==============================] - 3s 378us/step - loss: 1.8599\n",
      "Epoch 6/10\n",
      "9093/9093 [==============================] - 3s 367us/step - loss: 1.8412\n",
      "Epoch 7/10\n",
      "9093/9093 [==============================] - 3s 366us/step - loss: 1.8249\n",
      "Epoch 8/10\n",
      "9093/9093 [==============================] - 4s 411us/step - loss: 1.8353\n",
      "Epoch 9/10\n",
      "9093/9093 [==============================] - 3s 365us/step - loss: 1.7850\n",
      "Epoch 10/10\n",
      "9093/9093 [==============================] - 3s 365us/step - loss: 1.7840\n",
      "Saved model to disk\n",
      "iteracion 1\n",
      "Epoch 1/10\n",
      "7062/7062 [==============================] - 5s 692us/step - loss: 2.4076\n",
      "Epoch 2/10\n",
      "7062/7062 [==============================] - 2s 338us/step - loss: 2.3673\n",
      "Epoch 3/10\n",
      "7062/7062 [==============================] - 3s 357us/step - loss: 2.3454\n",
      "Epoch 4/10\n",
      "7062/7062 [==============================] - 3s 391us/step - loss: 2.3199\n",
      "Epoch 5/10\n",
      "7062/7062 [==============================] - 3s 357us/step - loss: 2.2995\n",
      "Epoch 6/10\n",
      "7062/7062 [==============================] - 2s 354us/step - loss: 2.2683\n",
      "Epoch 7/10\n",
      "7062/7062 [==============================] - 2s 344us/step - loss: 2.2388\n",
      "Epoch 8/10\n",
      "7062/7062 [==============================] - 2s 339us/step - loss: 2.1866\n",
      "Epoch 9/10\n",
      "7062/7062 [==============================] - 2s 338us/step - loss: 2.1615\n",
      "Epoch 10/10\n",
      "7062/7062 [==============================] - 2s 328us/step - loss: 2.1561\n",
      "Saved model to disk\n",
      "iteracion 2\n",
      "Epoch 1/10\n",
      "7595/7595 [==============================] - 5s 602us/step - loss: 2.1928\n",
      "Epoch 2/10\n",
      "7595/7595 [==============================] - 3s 340us/step - loss: 2.1558\n",
      "Epoch 3/10\n",
      "7595/7595 [==============================] - 3s 336us/step - loss: 2.1353\n",
      "Epoch 4/10\n",
      "7595/7595 [==============================] - 3s 332us/step - loss: 2.1187\n",
      "Epoch 5/10\n",
      "7595/7595 [==============================] - 3s 334us/step - loss: 2.0981\n",
      "Epoch 6/10\n",
      "7595/7595 [==============================] - 3s 396us/step - loss: 2.0727\n",
      "Epoch 7/10\n",
      "7595/7595 [==============================] - 3s 359us/step - loss: 2.0739\n",
      "Epoch 8/10\n",
      "7595/7595 [==============================] - 3s 385us/step - loss: 2.0459\n",
      "Epoch 9/10\n",
      "7595/7595 [==============================] - 3s 391us/step - loss: 2.0002\n",
      "Epoch 10/10\n",
      "7595/7595 [==============================] - 3s 410us/step - loss: 2.0303\n"
     ]
    }
   ],
   "source": [
    "#Correr\n",
    "cant_games = 100\n",
    "rand_moves = .1\n",
    "for x in range(20):\n",
    "    cant_games=10\n",
    "    print(f\"iteracion {x}\")\n",
    "    jugar(alto,ancho,bombas,rand_moves,cant_games)    \n",
    "    reformat()    \n",
    "    m = load_model()\n",
    "    entrada = np.load('entrada.npy')\n",
    "    salida = np.load('salida.npy')\n",
    "    m.fit(entrada,salida,epochs=10,batch_size=32)\n",
    "    save_model(m)"
   ]
  },
  {
   "cell_type": "code",
   "execution_count": null,
   "metadata": {
    "collapsed": true
   },
   "outputs": [],
   "source": []
  },
  {
   "cell_type": "code",
   "execution_count": null,
   "metadata": {
    "collapsed": true
   },
   "outputs": [],
   "source": []
  },
  {
   "cell_type": "code",
   "execution_count": null,
   "metadata": {
    "collapsed": true
   },
   "outputs": [],
   "source": []
  }
 ],
 "metadata": {
  "kernelspec": {
   "display_name": "Python 3",
   "language": "python",
   "name": "python3"
  },
  "language_info": {
   "codemirror_mode": {
    "name": "ipython",
    "version": 3
   },
   "file_extension": ".py",
   "mimetype": "text/x-python",
   "name": "python",
   "nbconvert_exporter": "python",
   "pygments_lexer": "ipython3",
   "version": "3.6.3"
  }
 },
 "nbformat": 4,
 "nbformat_minor": 2
}
