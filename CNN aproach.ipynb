{
 "cells": [
  {
   "cell_type": "code",
   "execution_count": 230,
   "metadata": {},
   "outputs": [
    {
     "name": "stderr",
     "output_type": "stream",
     "text": [
      "C:\\Users\\Matias\\Anaconda3\\lib\\site-packages\\h5py\\__init__.py:34: FutureWarning: Conversion of the second argument of issubdtype from `float` to `np.floating` is deprecated. In future, it will be treated as `np.float64 == np.dtype(float).type`.\n",
      "  from ._conv import register_converters as _register_converters\n",
      "Using TensorFlow backend.\n"
     ]
    }
   ],
   "source": [
    "import numpy as np\n",
    "from random import randint\n",
    "from datetime import datetime\n",
    "from buscaminas import MineSweeper as ms\n",
    "from datasets import DataSets as ds\n",
    "\n",
    "from keras.models import model_from_json"
   ]
  },
  {
   "cell_type": "code",
   "execution_count": 510,
   "metadata": {
    "collapsed": true
   },
   "outputs": [],
   "source": [
    "from importlib import reload\n",
    "import buscaminas\n",
    "reload(buscaminas)\n",
    "from buscaminas import MineSweeper as ms\n",
    "from importlib import reload\n",
    "import datasets\n",
    "reload(datasets)\n",
    "from datasets import DataSets as ds\n"
   ]
  },
  {
   "cell_type": "code",
   "execution_count": 511,
   "metadata": {},
   "outputs": [],
   "source": [
    "game = ms(5,5,3,neverends=True)"
   ]
  },
  {
   "cell_type": "code",
   "execution_count": 361,
   "metadata": {},
   "outputs": [
    {
     "name": "stdout",
     "output_type": "stream",
     "text": [
      "\u001b[37m0\u001b[0m \u001b[37m0\u001b[0m 1 \u001b[31mB\u001b[0m \u001b[31mB\u001b[0m \n",
      "\u001b[37m0\u001b[0m \u001b[37m0\u001b[0m 1 2 2 \n",
      "\u001b[37m0\u001b[0m \u001b[37m0\u001b[0m 1 1 1 \n",
      "\u001b[37m0\u001b[0m \u001b[37m0\u001b[0m 1 \u001b[31mB\u001b[0m 1 \n",
      "\u001b[37m0\u001b[0m \u001b[37m0\u001b[0m 1 1 1 \n"
     ]
    }
   ],
   "source": [
    "game.pretty_print()"
   ]
  },
  {
   "cell_type": "code",
   "execution_count": 376,
   "metadata": {},
   "outputs": [
    {
     "name": "stdout",
     "output_type": "stream",
     "text": [
      "[[ 0.  0.  1. -2. -2.]\n",
      " [ 0.  0.  1.  2.  2.]\n",
      " [ 0.  0.  1.  1.  1.]\n",
      " [ 0.  0.  1. -2.  1.]\n",
      " [ 0.  0.  1.  1.  1.]]\n"
     ]
    }
   ],
   "source": [
    "print(game.matriz_juego.reshape(5,5))"
   ]
  },
  {
   "cell_type": "code",
   "execution_count": 446,
   "metadata": {},
   "outputs": [
    {
     "name": "stdout",
     "output_type": "stream",
     "text": [
      "(None, 5, 5, 1)\n",
      "(None, 5, 5, 64)\n",
      "(None, 3, 3, 64)\n",
      "(None, 1, 1, 64)\n",
      "(None, 64)\n",
      "(None, 400)\n",
      "(None, 400)\n"
     ]
    }
   ],
   "source": [
    "model = create_cnn_model((5,5,1))"
   ]
  },
  {
   "cell_type": "code",
   "execution_count": 449,
   "metadata": {},
   "outputs": [
    {
     "ename": "ValueError",
     "evalue": "cannot reshape array of size 125 into shape (5,20,20,1)",
     "output_type": "error",
     "traceback": [
      "\u001b[1;31m---------------------------------------------------------------------------\u001b[0m",
      "\u001b[1;31mValueError\u001b[0m                                Traceback (most recent call last)",
      "\u001b[1;32m<ipython-input-449-9afd852a33be>\u001b[0m in \u001b[0;36m<module>\u001b[1;34m()\u001b[0m\n\u001b[0;32m      1\u001b[0m \u001b[0mim_shape\u001b[0m \u001b[1;33m=\u001b[0m \u001b[1;33m(\u001b[0m\u001b[0malto\u001b[0m\u001b[1;33m,\u001b[0m\u001b[0mancho\u001b[0m\u001b[1;33m,\u001b[0m \u001b[1;36m1\u001b[0m\u001b[1;33m)\u001b[0m\u001b[1;33m\u001b[0m\u001b[0m\n\u001b[1;32m----> 2\u001b[1;33m \u001b[0ma\u001b[0m \u001b[1;33m=\u001b[0m \u001b[0ma\u001b[0m\u001b[1;33m.\u001b[0m\u001b[0mreshape\u001b[0m\u001b[1;33m(\u001b[0m\u001b[0ma\u001b[0m\u001b[1;33m.\u001b[0m\u001b[0mshape\u001b[0m\u001b[1;33m[\u001b[0m\u001b[1;36m0\u001b[0m\u001b[1;33m]\u001b[0m\u001b[1;33m,\u001b[0m \u001b[1;33m*\u001b[0m\u001b[0mim_shape\u001b[0m\u001b[1;33m)\u001b[0m\u001b[1;33m\u001b[0m\u001b[0m\n\u001b[0m",
      "\u001b[1;31mValueError\u001b[0m: cannot reshape array of size 125 into shape (5,20,20,1)"
     ]
    }
   ],
   "source": [
    "im_shape = (alto,ancho, 1)\n",
    "a = a.reshape(a.shape[0], *im_shape)"
   ]
  },
  {
   "cell_type": "code",
   "execution_count": 450,
   "metadata": {},
   "outputs": [
    {
     "ename": "ValueError",
     "evalue": "Error when checking input: expected conv2d_72_input to have 4 dimensions, but got array with shape (1, 25)",
     "output_type": "error",
     "traceback": [
      "\u001b[1;31m---------------------------------------------------------------------------\u001b[0m",
      "\u001b[1;31mValueError\u001b[0m                                Traceback (most recent call last)",
      "\u001b[1;32m<ipython-input-450-d390486bf92d>\u001b[0m in \u001b[0;36m<module>\u001b[1;34m()\u001b[0m\n\u001b[1;32m----> 1\u001b[1;33m \u001b[0ma\u001b[0m\u001b[1;33m,\u001b[0m\u001b[0mb\u001b[0m \u001b[1;33m=\u001b[0m \u001b[0mdata\u001b[0m\u001b[1;33m.\u001b[0m\u001b[0mget_data\u001b[0m\u001b[1;33m(\u001b[0m\u001b[0mmodel\u001b[0m\u001b[1;33m,\u001b[0m\u001b[0mdata_size\u001b[0m\u001b[1;33m=\u001b[0m\u001b[1;36m5\u001b[0m\u001b[1;33m)\u001b[0m\u001b[1;33m\u001b[0m\u001b[0m\n\u001b[0m",
      "\u001b[1;32m~\\Desktop\\REDES NEURONNALES\\datasets.py\u001b[0m in \u001b[0;36mget_data\u001b[1;34m(self, model, data_size, last_few)\u001b[0m\n\u001b[0;32m     23\u001b[0m             \u001b[0menvstate\u001b[0m\u001b[1;33m,\u001b[0m \u001b[0maction\u001b[0m\u001b[1;33m,\u001b[0m \u001b[0mreward\u001b[0m\u001b[1;33m,\u001b[0m \u001b[0menvstate_next\u001b[0m\u001b[1;33m,\u001b[0m \u001b[0mgame_over\u001b[0m \u001b[1;33m=\u001b[0m \u001b[0mself\u001b[0m\u001b[1;33m.\u001b[0m\u001b[0mmemory\u001b[0m\u001b[1;33m[\u001b[0m\u001b[0mmem_size\u001b[0m\u001b[1;33m-\u001b[0m\u001b[0mlast_few\u001b[0m\u001b[1;33m+\u001b[0m\u001b[0mj\u001b[0m\u001b[1;33m]\u001b[0m\u001b[1;33m\u001b[0m\u001b[0m\n\u001b[0;32m     24\u001b[0m             \u001b[0minputs\u001b[0m\u001b[1;33m[\u001b[0m\u001b[0mi\u001b[0m\u001b[1;33m]\u001b[0m \u001b[1;33m=\u001b[0m \u001b[0menvstate\u001b[0m\u001b[1;33m\u001b[0m\u001b[0m\n\u001b[1;32m---> 25\u001b[1;33m             \u001b[0mtargets\u001b[0m\u001b[1;33m[\u001b[0m\u001b[0mi\u001b[0m\u001b[1;33m]\u001b[0m \u001b[1;33m=\u001b[0m \u001b[0mmodel\u001b[0m\u001b[1;33m.\u001b[0m\u001b[0mpredict\u001b[0m\u001b[1;33m(\u001b[0m\u001b[0menvstate\u001b[0m\u001b[1;33m)\u001b[0m\u001b[1;33m[\u001b[0m\u001b[1;36m0\u001b[0m\u001b[1;33m]\u001b[0m\u001b[1;33m\u001b[0m\u001b[0m\n\u001b[0m\u001b[0;32m     26\u001b[0m             \u001b[1;32mif\u001b[0m \u001b[0mgame_over\u001b[0m\u001b[1;33m:\u001b[0m\u001b[1;33m\u001b[0m\u001b[0m\n\u001b[0;32m     27\u001b[0m                 \u001b[0mtargets\u001b[0m\u001b[1;33m[\u001b[0m\u001b[0mi\u001b[0m\u001b[1;33m,\u001b[0m \u001b[0maction\u001b[0m\u001b[1;33m]\u001b[0m \u001b[1;33m=\u001b[0m \u001b[0mreward\u001b[0m\u001b[1;33m\u001b[0m\u001b[0m\n",
      "\u001b[1;32m~\\Anaconda3\\lib\\site-packages\\keras\\engine\\training.py\u001b[0m in \u001b[0;36mpredict\u001b[1;34m(self, x, batch_size, verbose, steps)\u001b[0m\n\u001b[0;32m   1147\u001b[0m                              'argument.')\n\u001b[0;32m   1148\u001b[0m         \u001b[1;31m# Validate user data.\u001b[0m\u001b[1;33m\u001b[0m\u001b[1;33m\u001b[0m\u001b[0m\n\u001b[1;32m-> 1149\u001b[1;33m         \u001b[0mx\u001b[0m\u001b[1;33m,\u001b[0m \u001b[0m_\u001b[0m\u001b[1;33m,\u001b[0m \u001b[0m_\u001b[0m \u001b[1;33m=\u001b[0m \u001b[0mself\u001b[0m\u001b[1;33m.\u001b[0m\u001b[0m_standardize_user_data\u001b[0m\u001b[1;33m(\u001b[0m\u001b[0mx\u001b[0m\u001b[1;33m)\u001b[0m\u001b[1;33m\u001b[0m\u001b[0m\n\u001b[0m\u001b[0;32m   1150\u001b[0m         \u001b[1;32mif\u001b[0m \u001b[0mself\u001b[0m\u001b[1;33m.\u001b[0m\u001b[0mstateful\u001b[0m\u001b[1;33m:\u001b[0m\u001b[1;33m\u001b[0m\u001b[0m\n\u001b[0;32m   1151\u001b[0m             \u001b[1;32mif\u001b[0m \u001b[0mx\u001b[0m\u001b[1;33m[\u001b[0m\u001b[1;36m0\u001b[0m\u001b[1;33m]\u001b[0m\u001b[1;33m.\u001b[0m\u001b[0mshape\u001b[0m\u001b[1;33m[\u001b[0m\u001b[1;36m0\u001b[0m\u001b[1;33m]\u001b[0m \u001b[1;33m>\u001b[0m \u001b[0mbatch_size\u001b[0m \u001b[1;32mand\u001b[0m \u001b[0mx\u001b[0m\u001b[1;33m[\u001b[0m\u001b[1;36m0\u001b[0m\u001b[1;33m]\u001b[0m\u001b[1;33m.\u001b[0m\u001b[0mshape\u001b[0m\u001b[1;33m[\u001b[0m\u001b[1;36m0\u001b[0m\u001b[1;33m]\u001b[0m \u001b[1;33m%\u001b[0m \u001b[0mbatch_size\u001b[0m \u001b[1;33m!=\u001b[0m \u001b[1;36m0\u001b[0m\u001b[1;33m:\u001b[0m\u001b[1;33m\u001b[0m\u001b[0m\n",
      "\u001b[1;32m~\\Anaconda3\\lib\\site-packages\\keras\\engine\\training.py\u001b[0m in \u001b[0;36m_standardize_user_data\u001b[1;34m(self, x, y, sample_weight, class_weight, check_array_lengths, batch_size)\u001b[0m\n\u001b[0;32m    749\u001b[0m             \u001b[0mfeed_input_shapes\u001b[0m\u001b[1;33m,\u001b[0m\u001b[1;33m\u001b[0m\u001b[0m\n\u001b[0;32m    750\u001b[0m             \u001b[0mcheck_batch_axis\u001b[0m\u001b[1;33m=\u001b[0m\u001b[1;32mFalse\u001b[0m\u001b[1;33m,\u001b[0m  \u001b[1;31m# Don't enforce the batch size.\u001b[0m\u001b[1;33m\u001b[0m\u001b[0m\n\u001b[1;32m--> 751\u001b[1;33m             exception_prefix='input')\n\u001b[0m\u001b[0;32m    752\u001b[0m \u001b[1;33m\u001b[0m\u001b[0m\n\u001b[0;32m    753\u001b[0m         \u001b[1;32mif\u001b[0m \u001b[0my\u001b[0m \u001b[1;32mis\u001b[0m \u001b[1;32mnot\u001b[0m \u001b[1;32mNone\u001b[0m\u001b[1;33m:\u001b[0m\u001b[1;33m\u001b[0m\u001b[0m\n",
      "\u001b[1;32m~\\Anaconda3\\lib\\site-packages\\keras\\engine\\training_utils.py\u001b[0m in \u001b[0;36mstandardize_input_data\u001b[1;34m(data, names, shapes, check_batch_axis, exception_prefix)\u001b[0m\n\u001b[0;32m    126\u001b[0m                         \u001b[1;34m': expected '\u001b[0m \u001b[1;33m+\u001b[0m \u001b[0mnames\u001b[0m\u001b[1;33m[\u001b[0m\u001b[0mi\u001b[0m\u001b[1;33m]\u001b[0m \u001b[1;33m+\u001b[0m \u001b[1;34m' to have '\u001b[0m \u001b[1;33m+\u001b[0m\u001b[1;33m\u001b[0m\u001b[0m\n\u001b[0;32m    127\u001b[0m                         \u001b[0mstr\u001b[0m\u001b[1;33m(\u001b[0m\u001b[0mlen\u001b[0m\u001b[1;33m(\u001b[0m\u001b[0mshape\u001b[0m\u001b[1;33m)\u001b[0m\u001b[1;33m)\u001b[0m \u001b[1;33m+\u001b[0m \u001b[1;34m' dimensions, but got array '\u001b[0m\u001b[1;33m\u001b[0m\u001b[0m\n\u001b[1;32m--> 128\u001b[1;33m                         'with shape ' + str(data_shape))\n\u001b[0m\u001b[0;32m    129\u001b[0m                 \u001b[1;32mif\u001b[0m \u001b[1;32mnot\u001b[0m \u001b[0mcheck_batch_axis\u001b[0m\u001b[1;33m:\u001b[0m\u001b[1;33m\u001b[0m\u001b[0m\n\u001b[0;32m    130\u001b[0m                     \u001b[0mdata_shape\u001b[0m \u001b[1;33m=\u001b[0m \u001b[0mdata_shape\u001b[0m\u001b[1;33m[\u001b[0m\u001b[1;36m1\u001b[0m\u001b[1;33m:\u001b[0m\u001b[1;33m]\u001b[0m\u001b[1;33m\u001b[0m\u001b[0m\n",
      "\u001b[1;31mValueError\u001b[0m: Error when checking input: expected conv2d_72_input to have 4 dimensions, but got array with shape (1, 25)"
     ]
    }
   ],
   "source": [
    "a,b = data.get_data(model,data_size=5)"
   ]
  },
  {
   "cell_type": "code",
   "execution_count": 464,
   "metadata": {},
   "outputs": [],
   "source": [
    "from keras.models import Sequential\n",
    "from keras.layers import Dense, Conv2D, MaxPool2D, Flatten, Dropout\n",
    "from keras.layers.core import Dense, Activation\n",
    "from keras.layers.advanced_activations import PReLU\n",
    "from keras.optimizers import SGD , Adam, RMSprop\n",
    "def create_cnn_model(alto,ancho):\n",
    "    im_shape = (alto,ancho,1)\n",
    "    model = Sequential()\n",
    "    print((None,*im_shape))\n",
    "    model.add(Conv2D(64, (3, 3), activation='relu', padding='same', input_shape=im_shape))\n",
    "    print(model.output_shape)\n",
    "    model.add(Conv2D(64, (3, 3), activation='relu'))\n",
    "    print(model.output_shape)\n",
    "    model.add(MaxPool2D((2, 2)))\n",
    "    print(model.output_shape)\n",
    "    #model.add(Conv2D(64, (3, 3), activation='relu', padding='same'))\n",
    "    model.add(Dropout(0.2))\n",
    "    model.add(Flatten())\n",
    "    print(model.output_shape)\n",
    "    #model.add(Conv2D(128, (3, 3), activation='relu', padding='same'))\n",
    "    #print(model.output_shape)\n",
    "    #model.add(Conv2D(128, (3, 3), activation='relu'))\n",
    "    #print(model.output_shape)\n",
    "    model.add(Dense(alto*ancho))\n",
    "    print(model.output_shape)\n",
    "    model.add(PReLU())\n",
    "    model.add(Dense(alto*ancho))\n",
    "    model.add(PReLU())\n",
    "    model.add(Dense(alto*ancho))\n",
    "    print(model.output_shape)\n",
    "    model.compile(optimizer='adam', loss='mse')\n",
    "    return model"
   ]
  },
  {
   "cell_type": "code",
   "execution_count": 371,
   "metadata": {},
   "outputs": [
    {
     "name": "stdout",
     "output_type": "stream",
     "text": [
      "0\n",
      "\u001b[37m0\u001b[0m \u001b[32m#\u001b[0m \u001b[32m#\u001b[0m \u001b[32m#\u001b[0m \u001b[31mB\u001b[0m \n",
      "\u001b[37m0\u001b[0m \u001b[32m#\u001b[0m \u001b[32m#\u001b[0m \u001b[32m#\u001b[0m \u001b[32m#\u001b[0m \n",
      "\u001b[32m#\u001b[0m \u001b[32m#\u001b[0m \u001b[32m#\u001b[0m \u001b[32m#\u001b[0m \u001b[32m#\u001b[0m \n",
      "\u001b[32m#\u001b[0m \u001b[32m#\u001b[0m \u001b[32m#\u001b[0m \u001b[32m#\u001b[0m \u001b[32m#\u001b[0m \n",
      "\u001b[32m#\u001b[0m \u001b[32m#\u001b[0m \u001b[32m#\u001b[0m \u001b[32m#\u001b[0m \u001b[32m#\u001b[0m \n",
      "False\n"
     ]
    }
   ],
   "source": [
    "print(game.click(0,4))\n",
    "game.pretty_print(True)\n",
    "print(game.gameover)"
   ]
  },
  {
   "cell_type": "code",
   "execution_count": 468,
   "metadata": {
    "collapsed": true
   },
   "outputs": [],
   "source": [
    "data = ds(gamma=.95,max_memory=200)"
   ]
  },
  {
   "cell_type": "code",
   "execution_count": 469,
   "metadata": {},
   "outputs": [
    {
     "ename": "ValueError",
     "evalue": "Error when checking input: expected conv2d_74_input to have 4 dimensions, but got array with shape (1, 25)",
     "output_type": "error",
     "traceback": [
      "\u001b[1;31m---------------------------------------------------------------------------\u001b[0m",
      "\u001b[1;31mValueError\u001b[0m                                Traceback (most recent call last)",
      "\u001b[1;32m<ipython-input-469-d64f0977f9a5>\u001b[0m in \u001b[0;36m<module>\u001b[1;34m()\u001b[0m\n\u001b[1;32m----> 1\u001b[1;33m \u001b[0mdata\u001b[0m\u001b[1;33m.\u001b[0m\u001b[0mget_data\u001b[0m\u001b[1;33m(\u001b[0m\u001b[0mmodel\u001b[0m\u001b[1;33m,\u001b[0m\u001b[0mdata_size\u001b[0m\u001b[1;33m=\u001b[0m\u001b[1;36m1\u001b[0m\u001b[1;33m)\u001b[0m\u001b[1;33m\u001b[0m\u001b[0m\n\u001b[0m",
      "\u001b[1;32m~\\Desktop\\REDES NEURONNALES\\datasets.py\u001b[0m in \u001b[0;36mget_data\u001b[1;34m(self, model, data_size, last_few)\u001b[0m\n\u001b[0;32m     23\u001b[0m             \u001b[0menvstate\u001b[0m\u001b[1;33m,\u001b[0m \u001b[0maction\u001b[0m\u001b[1;33m,\u001b[0m \u001b[0mreward\u001b[0m\u001b[1;33m,\u001b[0m \u001b[0menvstate_next\u001b[0m\u001b[1;33m,\u001b[0m \u001b[0mgame_over\u001b[0m \u001b[1;33m=\u001b[0m \u001b[0mself\u001b[0m\u001b[1;33m.\u001b[0m\u001b[0mmemory\u001b[0m\u001b[1;33m[\u001b[0m\u001b[0mmem_size\u001b[0m\u001b[1;33m-\u001b[0m\u001b[0mlast_few\u001b[0m\u001b[1;33m+\u001b[0m\u001b[0mj\u001b[0m\u001b[1;33m]\u001b[0m\u001b[1;33m\u001b[0m\u001b[0m\n\u001b[0;32m     24\u001b[0m             \u001b[0minputs\u001b[0m\u001b[1;33m[\u001b[0m\u001b[0mi\u001b[0m\u001b[1;33m]\u001b[0m \u001b[1;33m=\u001b[0m \u001b[0menvstate\u001b[0m\u001b[1;33m\u001b[0m\u001b[0m\n\u001b[1;32m---> 25\u001b[1;33m             \u001b[0mtargets\u001b[0m\u001b[1;33m[\u001b[0m\u001b[0mi\u001b[0m\u001b[1;33m]\u001b[0m \u001b[1;33m=\u001b[0m \u001b[0mmodel\u001b[0m\u001b[1;33m.\u001b[0m\u001b[0mpredict\u001b[0m\u001b[1;33m(\u001b[0m\u001b[0menvstate\u001b[0m\u001b[1;33m)\u001b[0m\u001b[1;33m[\u001b[0m\u001b[1;36m0\u001b[0m\u001b[1;33m]\u001b[0m\u001b[1;33m\u001b[0m\u001b[0m\n\u001b[0m\u001b[0;32m     26\u001b[0m             \u001b[1;32mif\u001b[0m \u001b[0mgame_over\u001b[0m\u001b[1;33m:\u001b[0m\u001b[1;33m\u001b[0m\u001b[0m\n\u001b[0;32m     27\u001b[0m                 \u001b[0mtargets\u001b[0m\u001b[1;33m[\u001b[0m\u001b[0mi\u001b[0m\u001b[1;33m,\u001b[0m \u001b[0maction\u001b[0m\u001b[1;33m]\u001b[0m \u001b[1;33m=\u001b[0m \u001b[0mreward\u001b[0m\u001b[1;33m\u001b[0m\u001b[0m\n",
      "\u001b[1;32m~\\Anaconda3\\lib\\site-packages\\keras\\engine\\training.py\u001b[0m in \u001b[0;36mpredict\u001b[1;34m(self, x, batch_size, verbose, steps)\u001b[0m\n\u001b[0;32m   1147\u001b[0m                              'argument.')\n\u001b[0;32m   1148\u001b[0m         \u001b[1;31m# Validate user data.\u001b[0m\u001b[1;33m\u001b[0m\u001b[1;33m\u001b[0m\u001b[0m\n\u001b[1;32m-> 1149\u001b[1;33m         \u001b[0mx\u001b[0m\u001b[1;33m,\u001b[0m \u001b[0m_\u001b[0m\u001b[1;33m,\u001b[0m \u001b[0m_\u001b[0m \u001b[1;33m=\u001b[0m \u001b[0mself\u001b[0m\u001b[1;33m.\u001b[0m\u001b[0m_standardize_user_data\u001b[0m\u001b[1;33m(\u001b[0m\u001b[0mx\u001b[0m\u001b[1;33m)\u001b[0m\u001b[1;33m\u001b[0m\u001b[0m\n\u001b[0m\u001b[0;32m   1150\u001b[0m         \u001b[1;32mif\u001b[0m \u001b[0mself\u001b[0m\u001b[1;33m.\u001b[0m\u001b[0mstateful\u001b[0m\u001b[1;33m:\u001b[0m\u001b[1;33m\u001b[0m\u001b[0m\n\u001b[0;32m   1151\u001b[0m             \u001b[1;32mif\u001b[0m \u001b[0mx\u001b[0m\u001b[1;33m[\u001b[0m\u001b[1;36m0\u001b[0m\u001b[1;33m]\u001b[0m\u001b[1;33m.\u001b[0m\u001b[0mshape\u001b[0m\u001b[1;33m[\u001b[0m\u001b[1;36m0\u001b[0m\u001b[1;33m]\u001b[0m \u001b[1;33m>\u001b[0m \u001b[0mbatch_size\u001b[0m \u001b[1;32mand\u001b[0m \u001b[0mx\u001b[0m\u001b[1;33m[\u001b[0m\u001b[1;36m0\u001b[0m\u001b[1;33m]\u001b[0m\u001b[1;33m.\u001b[0m\u001b[0mshape\u001b[0m\u001b[1;33m[\u001b[0m\u001b[1;36m0\u001b[0m\u001b[1;33m]\u001b[0m \u001b[1;33m%\u001b[0m \u001b[0mbatch_size\u001b[0m \u001b[1;33m!=\u001b[0m \u001b[1;36m0\u001b[0m\u001b[1;33m:\u001b[0m\u001b[1;33m\u001b[0m\u001b[0m\n",
      "\u001b[1;32m~\\Anaconda3\\lib\\site-packages\\keras\\engine\\training.py\u001b[0m in \u001b[0;36m_standardize_user_data\u001b[1;34m(self, x, y, sample_weight, class_weight, check_array_lengths, batch_size)\u001b[0m\n\u001b[0;32m    749\u001b[0m             \u001b[0mfeed_input_shapes\u001b[0m\u001b[1;33m,\u001b[0m\u001b[1;33m\u001b[0m\u001b[0m\n\u001b[0;32m    750\u001b[0m             \u001b[0mcheck_batch_axis\u001b[0m\u001b[1;33m=\u001b[0m\u001b[1;32mFalse\u001b[0m\u001b[1;33m,\u001b[0m  \u001b[1;31m# Don't enforce the batch size.\u001b[0m\u001b[1;33m\u001b[0m\u001b[0m\n\u001b[1;32m--> 751\u001b[1;33m             exception_prefix='input')\n\u001b[0m\u001b[0;32m    752\u001b[0m \u001b[1;33m\u001b[0m\u001b[0m\n\u001b[0;32m    753\u001b[0m         \u001b[1;32mif\u001b[0m \u001b[0my\u001b[0m \u001b[1;32mis\u001b[0m \u001b[1;32mnot\u001b[0m \u001b[1;32mNone\u001b[0m\u001b[1;33m:\u001b[0m\u001b[1;33m\u001b[0m\u001b[0m\n",
      "\u001b[1;32m~\\Anaconda3\\lib\\site-packages\\keras\\engine\\training_utils.py\u001b[0m in \u001b[0;36mstandardize_input_data\u001b[1;34m(data, names, shapes, check_batch_axis, exception_prefix)\u001b[0m\n\u001b[0;32m    126\u001b[0m                         \u001b[1;34m': expected '\u001b[0m \u001b[1;33m+\u001b[0m \u001b[0mnames\u001b[0m\u001b[1;33m[\u001b[0m\u001b[0mi\u001b[0m\u001b[1;33m]\u001b[0m \u001b[1;33m+\u001b[0m \u001b[1;34m' to have '\u001b[0m \u001b[1;33m+\u001b[0m\u001b[1;33m\u001b[0m\u001b[0m\n\u001b[0;32m    127\u001b[0m                         \u001b[0mstr\u001b[0m\u001b[1;33m(\u001b[0m\u001b[0mlen\u001b[0m\u001b[1;33m(\u001b[0m\u001b[0mshape\u001b[0m\u001b[1;33m)\u001b[0m\u001b[1;33m)\u001b[0m \u001b[1;33m+\u001b[0m \u001b[1;34m' dimensions, but got array '\u001b[0m\u001b[1;33m\u001b[0m\u001b[0m\n\u001b[1;32m--> 128\u001b[1;33m                         'with shape ' + str(data_shape))\n\u001b[0m\u001b[0;32m    129\u001b[0m                 \u001b[1;32mif\u001b[0m \u001b[1;32mnot\u001b[0m \u001b[0mcheck_batch_axis\u001b[0m\u001b[1;33m:\u001b[0m\u001b[1;33m\u001b[0m\u001b[0m\n\u001b[0;32m    130\u001b[0m                     \u001b[0mdata_shape\u001b[0m \u001b[1;33m=\u001b[0m \u001b[0mdata_shape\u001b[0m\u001b[1;33m[\u001b[0m\u001b[1;36m1\u001b[0m\u001b[1;33m:\u001b[0m\u001b[1;33m]\u001b[0m\u001b[1;33m\u001b[0m\u001b[0m\n",
      "\u001b[1;31mValueError\u001b[0m: Error when checking input: expected conv2d_74_input to have 4 dimensions, but got array with shape (1, 25)"
     ]
    }
   ],
   "source": [
    "data.get_data(model,data_size=1)"
   ]
  },
  {
   "cell_type": "code",
   "execution_count": 467,
   "metadata": {},
   "outputs": [
    {
     "name": "stdout",
     "output_type": "stream",
     "text": [
      "(None, 5, 5, 1)\n",
      "(None, 5, 5, 64)\n",
      "(None, 3, 3, 64)\n",
      "(None, 1, 1, 64)\n",
      "(None, 64)\n",
      "(None, 25)\n",
      "(None, 25)\n"
     ]
    }
   ],
   "source": [
    "alto = 5\n",
    "ancho = 5\n",
    "bombas = 3\n",
    "model = create_cnn_model(alto,ancho)\n",
    "#model = load_model()\n",
    "#model.compile(optimizer='adam', loss='mse')"
   ]
  },
  {
   "cell_type": "code",
   "execution_count": 478,
   "metadata": {},
   "outputs": [
    {
     "name": "stdout",
     "output_type": "stream",
     "text": [
      "11\n"
     ]
    }
   ],
   "source": [
    "print(len(memory))\n",
    "#m_train(model,alto,ancho,bombas,epsilon=.1,cant_juegos=100,cant_mov_entrenar=10,last_ones=10,verbose=True)"
   ]
  },
  {
   "cell_type": "code",
   "execution_count": 512,
   "metadata": {
    "collapsed": true
   },
   "outputs": [],
   "source": [
    "from importlib import reload\n",
    "import buscaminas\n",
    "reload(buscaminas)\n",
    "from buscaminas import MineSweeper as ms\n",
    "from importlib import reload\n",
    "import datasets\n",
    "reload(datasets)\n",
    "from datasets import DataSets as ds\n"
   ]
  },
  {
   "cell_type": "code",
   "execution_count": 597,
   "metadata": {},
   "outputs": [
    {
     "name": "stdout",
     "output_type": "stream",
     "text": [
      "\u001b[32m#\u001b[0m \u001b[32m#\u001b[0m \u001b[32m#\u001b[0m \u001b[32m#\u001b[0m \u001b[32m#\u001b[0m \n",
      "\u001b[32m#\u001b[0m \u001b[32m#\u001b[0m \u001b[32m#\u001b[0m \u001b[32m#\u001b[0m \u001b[32m#\u001b[0m \n",
      "\u001b[32m#\u001b[0m \u001b[32m#\u001b[0m \u001b[32m#\u001b[0m \u001b[32m#\u001b[0m \u001b[32m#\u001b[0m \n",
      "\u001b[32m#\u001b[0m \u001b[32m#\u001b[0m 1 \u001b[32m#\u001b[0m \u001b[32m#\u001b[0m \n",
      "\u001b[32m#\u001b[0m \u001b[32m#\u001b[0m \u001b[32m#\u001b[0m \u001b[32m#\u001b[0m \u001b[32m#\u001b[0m \n",
      "1\n",
      "(1, 5, 5, 1)\n",
      "[[-1. -1. -1. -1. -1. -1. -1. -1. -1. -1. -1. -1. -1. -1. -1. -1. -1.  1.\n",
      "  -1. -1. -1. -1. -1. -1. -1.]]\n",
      "[[-1. -1. -1. -1. -1. -1. -1. -1. -1. -1. -1. -1. -1. -1. -1. -1. -1.  1.\n",
      "  -1. -1. -1. -1. -1. -1. -1.]]\n"
     ]
    }
   ],
   "source": [
    "game = ms(alto,ancho,bombas,True)\n",
    "este_turno = game.matriz_usuario.reshape(1,alto,ancho,1)\n",
    "action = np.argmax(model.predict(este_turno)[0])\n",
    "t1,t2 = game.get_loc(action) \n",
    "cant = game.click(t1,t2)\n",
    "game.pretty_print(True)\n",
    "\n",
    "\n",
    "if game.gameover:                \n",
    "    reward = 100            \n",
    "elif cant==-1:\n",
    "    reward = -10\n",
    "    resultado=\"perdio\"\n",
    "elif cant==0:\n",
    "    reward = -1\n",
    "else:\n",
    "    reward = 1\n",
    "print(reward)\n",
    "print(este_turno.shape)\n",
    "print(este_turno.reshape(1,-1))\n",
    "print(game.matriz_usuario.reshape(1,alto,ancho,-1).reshape(1,-1))\n",
    "episode = [este_turno, \n",
    "           action, \n",
    "           reward,\n",
    "           game.matriz_usuario.reshape(1,alto,ancho,-1),\n",
    "           game.gameover]"
   ]
  },
  {
   "cell_type": "code",
   "execution_count": 515,
   "metadata": {},
   "outputs": [
    {
     "ename": "IndentationError",
     "evalue": "unindent does not match any outer indentation level (<tokenize>, line 20)",
     "output_type": "error",
     "traceback": [
      "\u001b[1;36m  File \u001b[1;32m\"<tokenize>\"\u001b[1;36m, line \u001b[1;32m20\u001b[0m\n\u001b[1;33m    dt = datetime.now() - start_time\u001b[0m\n\u001b[1;37m    ^\u001b[0m\n\u001b[1;31mIndentationError\u001b[0m\u001b[1;31m:\u001b[0m unindent does not match any outer indentation level\n"
     ]
    }
   ],
   "source": [
    "\n",
    "            episode = [este_turno, \n",
    "                       action, \n",
    "                       reward,\n",
    "                       game.matriz_usuario.reshape(1,alto,ancho,-1),\n",
    "                       game.gameover]\n",
    "            data.remember(episode)\n",
    "            cant_turnos += 1\n",
    "\n",
    "            # Train neural network model\n",
    "            inputs, targets = data.get_data(model,data_size=cant_mov_entrenar,last_few=last_ones)        \n",
    "            h = model.fit(\n",
    "                inputs,\n",
    "                targets,\n",
    "                epochs=8,\n",
    "                batch_size=1,\n",
    "                verbose=0,\n",
    "            )\n",
    "        dt = datetime.now() - start_time\n",
    "        t = format_time(dt.total_seconds())            \n",
    "\n",
    "        with open(\"progreso_bot.txt\", \"a+\") as f:\n",
    "            f.write(f\"{game.unclicked},{resultado}\\n\")\n",
    "\n",
    "        if verbose:\n",
    "            print(f\"Partida numero: {juego} con {game.unclicked} puntos y {cant_turnos} turnos, {t} y {resultado}\")    \n",
    "    if save==50:\n",
    "        save = 0\n",
    "        # serialize model to JSON\n",
    "        model_json = model.to_json()\n",
    "        with open(\"model.json\", \"w\") as json_file:\n",
    "            json_file.write(model_json)\n",
    "        # serialize weights to HDF5\n",
    "        model.save_weights(\"model.h5\")\n",
    "        print(\"Saved model to disk\")\n",
    "    else:\n",
    "        save+=1\n",
    "        \n",
    "\n",
    "# This is a small utility for printing readable time strings:\n",
    "def format_time(seconds):\n",
    "    if seconds < 400:\n",
    "        s = float(seconds)\n",
    "        return \"%.1f seconds\" % (s,)\n",
    "    elif seconds < 4000:\n",
    "        m = seconds / 60.0\n",
    "        return \"%.2f minutes\" % (m,)\n",
    "    else:\n",
    "        h = seconds / 3600.0\n",
    "        return \"%.2f hours\" % (h,)\n",
    "\n",
    "from keras.models import Sequential\n",
    "from keras.layers.core import Dense, Activation\n",
    "from keras.optimizers import SGD , Adam, RMSprop\n",
    "from keras.layers.advanced_activations import PReLU\n",
    "def build_model(alto,ancho, lr=0.001):\n",
    "    model = Sequential()\n",
    "    model.add(Dense(alto*ancho, input_shape=(alto*ancho,)))\n",
    "    #model.add(PReLU())\n",
    "    model.add(Dense(alto*ancho))\n",
    "    #model.add(PReLU())\n",
    "    model.add(Dense(alto*ancho))\n",
    "    model.compile(optimizer='adam', loss='mse')\n",
    "    return model\n",
    "def load_model():\n",
    "    json_file = open('model.json', 'r')\n",
    "    loaded_model_json = json_file.read()\n",
    "    json_file.close()\n",
    "    loaded_model = model_from_json(loaded_model_json)\n",
    "    # load weights into new model\n",
    "    loaded_model.load_weights(\"model.h5\")\n",
    "    return loaded_model"
   ]
  },
  {
   "cell_type": "code",
   "execution_count": 470,
   "metadata": {},
   "outputs": [],
   "source": [
    "def m_train(model,alto,ancho,bombas,epsilon=.1,cant_juegos=1,cant_mov_entrenar=10,last_ones=10,verbose=False):    \n",
    "    start_time = datetime.now()\n",
    "    save = 0\n",
    "    for juego in range(cant_juegos):\n",
    "        #Creo Juego        \n",
    "        game = ms(alto,ancho,bombas,True)\n",
    "        duracion = 0\n",
    "        cant_turnos = 0\n",
    "        resultado = \"gano\"\n",
    "        while not game.gameover:\n",
    "            #Saco los bordes\n",
    "            #este_turno = game.matriz_usuario.reshape(1,-1)  \n",
    "            este_turno = game.matriz_usuario.reshape(1,alto,ancho,1)\n",
    "\n",
    "            # Genereo proximo movimiento\n",
    "            al_azar = (np.random.rand() <= epsilon)\n",
    "            if not al_azar:                \n",
    "                action = np.argmax(model.predict(este_turno)[0])\n",
    "            else:\n",
    "                action = randint(0,alto*ancho-1)\n",
    "\n",
    "            t1,t2 = game.get_loc(action) \n",
    "            cant = game.click(t1,t2)\n",
    "            \n",
    "            if game.gameover:                \n",
    "                reward = 100            \n",
    "            elif cant==-1:\n",
    "                reward = -10\n",
    "                resultado=\"perdio\"\n",
    "            elif cant==0:\n",
    "                reward = -1\n",
    "            else:\n",
    "                reward = 1\n",
    "            print(este_turno.shape)\n",
    "            episode = [este_turno, \n",
    "                       action, \n",
    "                       reward,\n",
    "                       game.matriz_usuario.reshape(1,alto,ancho,-1),\n",
    "                       game.gameover]\n",
    "            data.remember(episode)\n",
    "            cant_turnos += 1\n",
    "\n",
    "            # Train neural network model\n",
    "            inputs, targets = data.get_data(model,data_size=cant_mov_entrenar,last_few=last_ones)        \n",
    "            h = model.fit(\n",
    "                inputs,\n",
    "                targets,\n",
    "                epochs=8,\n",
    "                batch_size=1,\n",
    "                verbose=0,\n",
    "            )\n",
    "        dt = datetime.now() - start_time\n",
    "        t = format_time(dt.total_seconds())            \n",
    "\n",
    "        with open(\"progreso_bot.txt\", \"a+\") as f:\n",
    "            f.write(f\"{game.unclicked},{resultado}\\n\")\n",
    "\n",
    "        if verbose:\n",
    "            print(f\"Partida numero: {juego} con {game.unclicked} puntos y {cant_turnos} turnos, {t} y {resultado}\")    \n",
    "    if save==50:\n",
    "        save = 0\n",
    "        # serialize model to JSON\n",
    "        model_json = model.to_json()\n",
    "        with open(\"model.json\", \"w\") as json_file:\n",
    "            json_file.write(model_json)\n",
    "        # serialize weights to HDF5\n",
    "        model.save_weights(\"model.h5\")\n",
    "        print(\"Saved model to disk\")\n",
    "    else:\n",
    "        save+=1\n",
    "        \n",
    "\n",
    "# This is a small utility for printing readable time strings:\n",
    "def format_time(seconds):\n",
    "    if seconds < 400:\n",
    "        s = float(seconds)\n",
    "        return \"%.1f seconds\" % (s,)\n",
    "    elif seconds < 4000:\n",
    "        m = seconds / 60.0\n",
    "        return \"%.2f minutes\" % (m,)\n",
    "    else:\n",
    "        h = seconds / 3600.0\n",
    "        return \"%.2f hours\" % (h,)\n",
    "\n",
    "from keras.models import Sequential\n",
    "from keras.layers.core import Dense, Activation\n",
    "from keras.optimizers import SGD , Adam, RMSprop\n",
    "from keras.layers.advanced_activations import PReLU\n",
    "def build_model(alto,ancho, lr=0.001):\n",
    "    model = Sequential()\n",
    "    model.add(Dense(alto*ancho, input_shape=(alto*ancho,)))\n",
    "    #model.add(PReLU())\n",
    "    model.add(Dense(alto*ancho))\n",
    "    #model.add(PReLU())\n",
    "    model.add(Dense(alto*ancho))\n",
    "    model.compile(optimizer='adam', loss='mse')\n",
    "    return model\n",
    "def load_model():\n",
    "    json_file = open('model.json', 'r')\n",
    "    loaded_model_json = json_file.read()\n",
    "    json_file.close()\n",
    "    loaded_model = model_from_json(loaded_model_json)\n",
    "    # load weights into new model\n",
    "    loaded_model.load_weights(\"model.h5\")\n",
    "    return loaded_model"
   ]
  }
 ],
 "metadata": {
  "kernelspec": {
   "display_name": "Python 3",
   "language": "python",
   "name": "python3"
  },
  "language_info": {
   "codemirror_mode": {
    "name": "ipython",
    "version": 3
   },
   "file_extension": ".py",
   "mimetype": "text/x-python",
   "name": "python",
   "nbconvert_exporter": "python",
   "pygments_lexer": "ipython3",
   "version": "3.6.3"
  }
 },
 "nbformat": 4,
 "nbformat_minor": 2
}
