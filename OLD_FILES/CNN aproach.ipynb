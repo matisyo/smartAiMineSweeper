{
 "cells": [
  {
   "cell_type": "code",
   "execution_count": 81,
   "metadata": {},
   "outputs": [],
   "source": [
    "import numpy as np\n",
    "from random import randint\n",
    "from datetime import datetime\n",
    "from buscaminas import MineSweeper as ms\n",
    "from datasets import DataSets as ds\n",
    "\n",
    "from keras.models import model_from_json"
   ]
  },
  {
   "cell_type": "code",
   "execution_count": 82,
   "metadata": {},
   "outputs": [],
   "source": [
    "from importlib import reload\n",
    "import buscaminas\n",
    "reload(buscaminas)\n",
    "from buscaminas import MineSweeper as ms\n",
    "from importlib import reload\n",
    "import datasets\n",
    "reload(datasets)\n",
    "from datasets import DataSets as ds\n"
   ]
  },
  {
   "cell_type": "code",
   "execution_count": 83,
   "metadata": {},
   "outputs": [],
   "source": [
    "game = ms(5,5,3,neverends=True)"
   ]
  },
  {
   "cell_type": "code",
   "execution_count": 84,
   "metadata": {},
   "outputs": [
    {
     "name": "stdout",
     "output_type": "stream",
     "text": [
      "(None, 5, 5, 1)\n",
      "(None, 5, 5, 64)\n",
      "(None, 3, 3, 64)\n",
      "(None, 1, 1, 64)\n",
      "(None, 64)\n",
      "(None, 25)\n",
      "(None, 25)\n"
     ]
    }
   ],
   "source": [
    "model = create_cnn_model(5,5)"
   ]
  },
  {
   "cell_type": "code",
   "execution_count": 75,
   "metadata": {},
   "outputs": [
    {
     "ename": "ValueError",
     "evalue": "could not broadcast input array from shape (5,5,1) into shape (5)",
     "output_type": "error",
     "traceback": [
      "\u001b[0;31m---------------------------------------------------------------------------\u001b[0m",
      "\u001b[0;31mValueError\u001b[0m                                Traceback (most recent call last)",
      "\u001b[0;32m<ipython-input-75-719f3469f4f9>\u001b[0m in \u001b[0;36m<module>\u001b[0;34m()\u001b[0m\n\u001b[0;32m----> 1\u001b[0;31m \u001b[0ma\u001b[0m\u001b[0;34m,\u001b[0m\u001b[0mb\u001b[0m \u001b[0;34m=\u001b[0m \u001b[0mdata\u001b[0m\u001b[0;34m.\u001b[0m\u001b[0mget_data\u001b[0m\u001b[0;34m(\u001b[0m\u001b[0mmodel\u001b[0m\u001b[0;34m,\u001b[0m\u001b[0mdata_size\u001b[0m\u001b[0;34m=\u001b[0m\u001b[0;36m5\u001b[0m\u001b[0;34m)\u001b[0m\u001b[0;34m\u001b[0m\u001b[0m\n\u001b[0m",
      "\u001b[0;32m~/Escritorio/buscaminas/smartAiMineSweeper/datasets.py\u001b[0m in \u001b[0;36mget_data\u001b[0;34m(self, model, data_size, last_few)\u001b[0m\n\u001b[1;32m     22\u001b[0m         \u001b[0;32mfor\u001b[0m \u001b[0mi\u001b[0m\u001b[0;34m,\u001b[0m \u001b[0mj\u001b[0m \u001b[0;32min\u001b[0m \u001b[0menumerate\u001b[0m\u001b[0;34m(\u001b[0m\u001b[0mnp\u001b[0m\u001b[0;34m.\u001b[0m\u001b[0mrandom\u001b[0m\u001b[0;34m.\u001b[0m\u001b[0mchoice\u001b[0m\u001b[0;34m(\u001b[0m\u001b[0mrange\u001b[0m\u001b[0;34m(\u001b[0m\u001b[0mlast_few\u001b[0m\u001b[0;34m)\u001b[0m\u001b[0;34m,\u001b[0m \u001b[0mdata_size\u001b[0m\u001b[0;34m,\u001b[0m \u001b[0mreplace\u001b[0m\u001b[0;34m=\u001b[0m\u001b[0;32mFalse\u001b[0m\u001b[0;34m)\u001b[0m\u001b[0;34m)\u001b[0m\u001b[0;34m:\u001b[0m\u001b[0;34m\u001b[0m\u001b[0m\n\u001b[1;32m     23\u001b[0m             \u001b[0menvstate\u001b[0m\u001b[0;34m,\u001b[0m \u001b[0maction\u001b[0m\u001b[0;34m,\u001b[0m \u001b[0mreward\u001b[0m\u001b[0;34m,\u001b[0m \u001b[0menvstate_next\u001b[0m\u001b[0;34m,\u001b[0m \u001b[0mgame_over\u001b[0m \u001b[0;34m=\u001b[0m \u001b[0mself\u001b[0m\u001b[0;34m.\u001b[0m\u001b[0mmemory\u001b[0m\u001b[0;34m[\u001b[0m\u001b[0mmem_size\u001b[0m\u001b[0;34m-\u001b[0m\u001b[0mlast_few\u001b[0m\u001b[0;34m+\u001b[0m\u001b[0mj\u001b[0m\u001b[0;34m]\u001b[0m\u001b[0;34m\u001b[0m\u001b[0m\n\u001b[0;32m---> 24\u001b[0;31m             \u001b[0minputs\u001b[0m\u001b[0;34m[\u001b[0m\u001b[0mi\u001b[0m\u001b[0;34m]\u001b[0m \u001b[0;34m=\u001b[0m \u001b[0menvstate\u001b[0m\u001b[0;34m\u001b[0m\u001b[0m\n\u001b[0m\u001b[1;32m     25\u001b[0m             \u001b[0mtargets\u001b[0m\u001b[0;34m[\u001b[0m\u001b[0mi\u001b[0m\u001b[0;34m]\u001b[0m \u001b[0;34m=\u001b[0m \u001b[0mmodel\u001b[0m\u001b[0;34m.\u001b[0m\u001b[0mpredict\u001b[0m\u001b[0;34m(\u001b[0m\u001b[0menvstate\u001b[0m\u001b[0;34m)\u001b[0m\u001b[0;34m[\u001b[0m\u001b[0;36m0\u001b[0m\u001b[0;34m]\u001b[0m\u001b[0;34m\u001b[0m\u001b[0m\n\u001b[1;32m     26\u001b[0m             \u001b[0;32mif\u001b[0m \u001b[0mgame_over\u001b[0m\u001b[0;34m:\u001b[0m\u001b[0;34m\u001b[0m\u001b[0m\n",
      "\u001b[0;31mValueError\u001b[0m: could not broadcast input array from shape (5,5,1) into shape (5)"
     ]
    }
   ],
   "source": [
    "a,b = data.get_data(model,data_size=5)"
   ]
  },
  {
   "cell_type": "code",
   "execution_count": 85,
   "metadata": {},
   "outputs": [],
   "source": [
    "from keras.models import Sequential\n",
    "from keras.layers import Dense, Conv2D, MaxPool2D, Flatten, Dropout\n",
    "from keras.layers.core import Dense, Activation\n",
    "from keras.layers.advanced_activations import PReLU\n",
    "from keras.optimizers import SGD , Adam, RMSprop\n",
    "def create_cnn_model(alto,ancho):\n",
    "    im_shape = (alto,ancho,1)\n",
    "    model = Sequential()\n",
    "    print((None,*im_shape))\n",
    "    model.add(Conv2D(64, (3, 3), activation='relu', padding='same', input_shape=im_shape))\n",
    "    print(model.output_shape)\n",
    "    model.add(Conv2D(64, (3, 3), activation='relu'))\n",
    "    print(model.output_shape)\n",
    "    model.add(MaxPool2D((2, 2)))\n",
    "    print(model.output_shape)\n",
    "    #model.add(Conv2D(64, (3, 3), activation='relu', padding='same'))\n",
    "    model.add(Dropout(0.2))\n",
    "    model.add(Flatten())\n",
    "    print(model.output_shape)\n",
    "    #model.add(Conv2D(128, (3, 3), activation='relu', padding='same'))\n",
    "    #print(model.output_shape)\n",
    "    #model.add(Conv2D(128, (3, 3), activation='relu'))\n",
    "    #print(model.output_shape)\n",
    "    model.add(Dense(alto*ancho))\n",
    "    print(model.output_shape)\n",
    "    model.add(PReLU())\n",
    "    model.add(Dense(alto*ancho))\n",
    "    model.add(PReLU())\n",
    "    model.add(Dense(alto*ancho))\n",
    "    print(model.output_shape)\n",
    "    model.compile(optimizer='adam', loss='mse')\n",
    "    return model\n",
    "\n",
    "def load_model():\n",
    "    json_file = open('model.json', 'r')\n",
    "    loaded_model_json = json_file.read()\n",
    "    json_file.close()\n",
    "    loaded_model = model_from_json(loaded_model_json)\n",
    "    # load weights into new model\n",
    "    loaded_model.load_weights(\"model.h5\")\n",
    "    return loaded_model"
   ]
  },
  {
   "cell_type": "code",
   "execution_count": 95,
   "metadata": {},
   "outputs": [
    {
     "name": "stdout",
     "output_type": "stream",
     "text": [
      "(None, 5, 5, 1)\n",
      "(None, 5, 5, 64)\n",
      "(None, 3, 3, 64)\n",
      "(None, 1, 1, 64)\n",
      "(None, 64)\n",
      "(None, 25)\n",
      "(None, 25)\n"
     ]
    }
   ],
   "source": [
    "alto = 5\n",
    "ancho = 5\n",
    "bombas = 3\n",
    "model = create_cnn_model(alto,ancho)\n",
    "data = ds(gamma=.95,max_memory=1000)\n",
    "#model = load_model()\n",
    "#model.compile(optimizer='adam', loss='mse')"
   ]
  },
  {
   "cell_type": "code",
   "execution_count": 96,
   "metadata": {},
   "outputs": [
    {
     "name": "stdout",
     "output_type": "stream",
     "text": [
      "Partida numero: 0 con 0 puntos y 118 turnos, 10.3 seconds y perdio\n"
     ]
    }
   ],
   "source": [
    "m_train(model,data,alto,ancho,bombas,epsilon=.1,cant_juegos=1,cant_mov_entrenar=100,last_ones=500,verbose=True)"
   ]
  },
  {
   "cell_type": "code",
   "execution_count": 89,
   "metadata": {},
   "outputs": [],
   "source": [
    "from importlib import reload\n",
    "import buscaminas\n",
    "reload(buscaminas)\n",
    "from buscaminas import MineSweeper as ms\n",
    "from importlib import reload\n",
    "import datasets\n",
    "reload(datasets)\n",
    "from datasets import DataSets as ds"
   ]
  },
  {
   "cell_type": "code",
   "execution_count": 90,
   "metadata": {},
   "outputs": [],
   "source": [
    "# This is a small utility for printing readable time strings:\n",
    "def format_time(seconds):\n",
    "    if seconds < 400:\n",
    "        s = float(seconds)\n",
    "        return \"%.1f seconds\" % (s,)\n",
    "    elif seconds < 4000:\n",
    "        m = seconds / 60.0\n",
    "        return \"%.2f minutes\" % (m,)\n",
    "    else:\n",
    "        h = seconds / 3600.0\n",
    "        return \"%.2f hours\" % (h,)\n"
   ]
  },
  {
   "cell_type": "code",
   "execution_count": 94,
   "metadata": {},
   "outputs": [],
   "source": [
    "def m_train(model,data,alto,ancho,bombas,epsilon=.1,cant_juegos=1,cant_mov_entrenar=10,last_ones=10,verbose=False):    \n",
    "    start_time = datetime.now()\n",
    "    save = 0\n",
    "    for juego in range(cant_juegos):\n",
    "        #Creo Juego        \n",
    "        game = ms(alto,ancho,bombas,True)\n",
    "        duracion = 0\n",
    "        cant_turnos = 0\n",
    "        resultado = \"gano\"\n",
    "        bombas_click=0\n",
    "        mal_click=0\n",
    "        bien_click=0\n",
    "        while not game.gameover:\n",
    "            #Saco los bordes\n",
    "            #este_turno = game.matriz_usuario.reshape(1,-1)  \n",
    "            este_turno = game.matriz_usuario.reshape(1,alto,ancho,1).copy()\n",
    "\n",
    "            # Genereo proximo movimiento\n",
    "            al_azar = (np.random.rand() <= epsilon)\n",
    "            if not al_azar:                \n",
    "                action = np.argmax(model.predict(este_turno)[0])\n",
    "            else:\n",
    "                action = randint(0,alto*ancho-1)\n",
    "\n",
    "            t1,t2 = game.get_loc(action) \n",
    "            cant = game.click(t1,t2)\n",
    "            \n",
    "            if game.gameover:                \n",
    "                reward = 100            \n",
    "            elif cant==-1:\n",
    "                reward = -10\n",
    "                resultado=\"perdio\"\n",
    "                bombas_click+=1\n",
    "            elif cant==0:\n",
    "                reward = -1\n",
    "                mal_clicks+=1\n",
    "            else:\n",
    "                reward = 1\n",
    "                bien_clicks+=1\n",
    "            episode = [este_turno, \n",
    "                       action, \n",
    "                       reward,\n",
    "                       game.matriz_usuario.reshape(1,alto,ancho,-1),\n",
    "                       game.gameover]\n",
    "            data.remember(episode)\n",
    "            cant_turnos += 1\n",
    "\n",
    "            # Train neural network model\n",
    "            inputs, targets = data.get_data(model,data_size=cant_mov_entrenar,last_few=last_ones)        \n",
    "            h = model.fit(inputs,targets,epochs=8,batch_size=32,verbose=0)\n",
    "            \n",
    "        dt = datetime.now() - start_time\n",
    "        t = format_time(dt.total_seconds())            \n",
    "\n",
    "        with open(\"progreso_bot.txt\", \"a+\") as f:\n",
    "            f.write(f\"{bombas_click},{mal_click},{bien_click},{resultado}\\n\")\n",
    "\n",
    "        if verbose:\n",
    "            print(f\"Partida numero: {juego} con {bombas_click},{mal_click},{bien_click},{resultado} duro {t} y {resultado}\")    \n",
    "    if save==50:\n",
    "        save = 0\n",
    "        # serialize model to JSON\n",
    "        model_json = model.to_json()\n",
    "        with open(\"model.json\", \"w\") as json_file:\n",
    "            json_file.write(model_json)\n",
    "        # serialize weights to HDF5\n",
    "        model.save_weights(\"model.h5\")\n",
    "        print(\"Saved model to disk\")\n",
    "    else:\n",
    "        save+=1\n",
    "        \n",
    "\n",
    "# This is a small utility for printing readable time strings:\n",
    "def format_time(seconds):\n",
    "    if seconds < 400:\n",
    "        s = float(seconds)\n",
    "        return \"%.1f seconds\" % (s,)\n",
    "    elif seconds < 4000:\n",
    "        m = seconds / 60.0\n",
    "        return \"%.2f minutes\" % (m,)\n",
    "    else:\n",
    "        h = seconds / 3600.0\n",
    "        return \"%.2f hours\" % (h,)\n"
   ]
  },
  {
   "cell_type": "code",
   "execution_count": null,
   "metadata": {},
   "outputs": [],
   "source": []
  },
  {
   "cell_type": "code",
   "execution_count": null,
   "metadata": {},
   "outputs": [],
   "source": []
  }
 ],
 "metadata": {
  "kernelspec": {
   "display_name": "Python 3",
   "language": "python",
   "name": "python3"
  },
  "language_info": {
   "codemirror_mode": {
    "name": "ipython",
    "version": 3
   },
   "file_extension": ".py",
   "mimetype": "text/x-python",
   "name": "python",
   "nbconvert_exporter": "python",
   "pygments_lexer": "ipython3",
   "version": "3.6.4"
  }
 },
 "nbformat": 4,
 "nbformat_minor": 2
}
